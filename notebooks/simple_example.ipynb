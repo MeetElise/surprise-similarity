{
 "cells": [
  {
   "attachments": {},
   "cell_type": "markdown",
   "metadata": {},
   "source": [
    "# Surprise similarity for text classification\n",
    "install the surprise_similarity package with:\n",
    " `pip install surprise_similarity`"
   ]
  },
  {
   "attachments": {},
   "cell_type": "markdown",
   "metadata": {},
   "source": [
    "# Word similarity\n",
    "In this simple example we'll compare the cosine-similarty and the surprise-similarity of a few words to the word `dog`.  This is simply a toy example demonstrating the difference between the two scores, that will also demonstrate the SurpriseSimilarity.rank_documents method, which can be used for document ranking and retrieval in general.  Finally we will also demonstrate how you can fine-tune the underlying sentence-transformer model to reproduce desired similarities."
   ]
  },
  {
   "cell_type": "code",
   "execution_count": 19,
   "metadata": {},
   "outputs": [],
   "source": [
    "import surprise_similarity\n",
    "similarity = surprise_similarity.SurpriseSimilarity()"
   ]
  },
  {
   "attachments": {},
   "cell_type": "markdown",
   "metadata": {},
   "source": [
    "## Vocabulary\n",
    "For this example we'll use the vocabulary given by `english_words_alpha_set` shipped with the package https://pypi.org/project/english-words/.\n",
    "\n",
    "`pip install english-words==1.1.0`"
   ]
  },
  {
   "cell_type": "code",
   "execution_count": 20,
   "metadata": {},
   "outputs": [
    {
     "name": "stdout",
     "output_type": "stream",
     "text": [
      "There are 25474 words in the vocabulary.\n"
     ]
    }
   ],
   "source": [
    "from english_words import english_words_alpha_set\n",
    "vocabulary = list(english_words_alpha_set)\n",
    "print(f'There are {len(vocabulary)} words in the vocabulary.')"
   ]
  },
  {
   "attachments": {},
   "cell_type": "markdown",
   "metadata": {},
   "source": [
    "## Cosine Ranking\n",
    "Start by ranking the words in the vocabulary by their similarity to the word `dog`. By setting `surprise_weight = 0` we see the ranking based on the cosine similarity score."
   ]
  },
  {
   "cell_type": "code",
   "execution_count": 21,
   "metadata": {},
   "outputs": [
    {
     "data": {
      "application/vnd.jupyter.widget-view+json": {
       "model_id": "1c71d248d65d4b23a09d63d1ae334a10",
       "version_major": 2,
       "version_minor": 0
      },
      "text/plain": [
       "Batches:   0%|          | 0/797 [00:00<?, ?it/s]"
      ]
     },
     "metadata": {},
     "output_type": "display_data"
    },
    {
     "data": {
      "text/html": [
       "<div>\n",
       "<style scoped>\n",
       "    .dataframe tbody tr th:only-of-type {\n",
       "        vertical-align: middle;\n",
       "    }\n",
       "\n",
       "    .dataframe tbody tr th {\n",
       "        vertical-align: top;\n",
       "    }\n",
       "\n",
       "    .dataframe thead th {\n",
       "        text-align: right;\n",
       "    }\n",
       "</style>\n",
       "<table border=\"1\" class=\"dataframe\">\n",
       "  <thead>\n",
       "    <tr style=\"text-align: right;\">\n",
       "      <th></th>\n",
       "      <th>documents</th>\n",
       "      <th>dog</th>\n",
       "    </tr>\n",
       "  </thead>\n",
       "  <tbody>\n",
       "    <tr>\n",
       "      <th>19923</th>\n",
       "      <td>dog</td>\n",
       "      <td>1.000000</td>\n",
       "    </tr>\n",
       "    <tr>\n",
       "      <th>13908</th>\n",
       "      <td>canine</td>\n",
       "      <td>0.952441</td>\n",
       "    </tr>\n",
       "    <tr>\n",
       "      <th>14719</th>\n",
       "      <td>pup</td>\n",
       "      <td>0.935472</td>\n",
       "    </tr>\n",
       "    <tr>\n",
       "      <th>9724</th>\n",
       "      <td>animal</td>\n",
       "      <td>0.929151</td>\n",
       "    </tr>\n",
       "    <tr>\n",
       "      <th>402</th>\n",
       "      <td>pooch</td>\n",
       "      <td>0.928523</td>\n",
       "    </tr>\n",
       "  </tbody>\n",
       "</table>\n",
       "</div>"
      ],
      "text/plain": [
       "      documents       dog\n",
       "19923       dog  1.000000\n",
       "13908    canine  0.952441\n",
       "14719       pup  0.935472\n",
       "9724     animal  0.929151\n",
       "402       pooch  0.928523"
      ]
     },
     "execution_count": 21,
     "metadata": {},
     "output_type": "execute_result"
    }
   ],
   "source": [
    "my_dogs_name = 'Jude'\n",
    "\n",
    "dog_similarity_df = similarity.rank_documents(queries=['dog'],\n",
    "                                documents=vocabulary,\n",
    "                                surprise_weight=0,\n",
    "                                sample_num_cutoff=None,\n",
    "                                normalize_raw_similarity=False,\n",
    "                                )\n",
    "dog_similarity_df.head()\n"
   ]
  },
  {
   "attachments": {},
   "cell_type": "markdown",
   "metadata": {},
   "source": [
    "Great, but let's focus in on a small subset of words that will highlight the differences between the cosine and surprise similarity scores"
   ]
  },
  {
   "cell_type": "code",
   "execution_count": 22,
   "metadata": {},
   "outputs": [
    {
     "data": {
      "text/html": [
       "<div>\n",
       "<style scoped>\n",
       "    .dataframe tbody tr th:only-of-type {\n",
       "        vertical-align: middle;\n",
       "    }\n",
       "\n",
       "    .dataframe tbody tr th {\n",
       "        vertical-align: top;\n",
       "    }\n",
       "\n",
       "    .dataframe thead th {\n",
       "        text-align: right;\n",
       "    }\n",
       "</style>\n",
       "<table border=\"1\" class=\"dataframe\">\n",
       "  <thead>\n",
       "    <tr style=\"text-align: right;\">\n",
       "      <th></th>\n",
       "      <th>documents</th>\n",
       "      <th>dog</th>\n",
       "    </tr>\n",
       "  </thead>\n",
       "  <tbody>\n",
       "    <tr>\n",
       "      <th>1231</th>\n",
       "      <td>the</td>\n",
       "      <td>0.852129</td>\n",
       "    </tr>\n",
       "    <tr>\n",
       "      <th>6091</th>\n",
       "      <td>potato</td>\n",
       "      <td>0.850233</td>\n",
       "    </tr>\n",
       "    <tr>\n",
       "      <th>20634</th>\n",
       "      <td>my</td>\n",
       "      <td>0.850161</td>\n",
       "    </tr>\n",
       "    <tr>\n",
       "      <th>15945</th>\n",
       "      <td>Alsatian</td>\n",
       "      <td>0.849615</td>\n",
       "    </tr>\n",
       "    <tr>\n",
       "      <th>9775</th>\n",
       "      <td>furry</td>\n",
       "      <td>0.833391</td>\n",
       "    </tr>\n",
       "    <tr>\n",
       "      <th>12785</th>\n",
       "      <td>puppyish</td>\n",
       "      <td>0.829942</td>\n",
       "    </tr>\n",
       "    <tr>\n",
       "      <th>8224</th>\n",
       "      <td>Jude</td>\n",
       "      <td>0.783955</td>\n",
       "    </tr>\n",
       "  </tbody>\n",
       "</table>\n",
       "</div>"
      ],
      "text/plain": [
       "      documents       dog\n",
       "1231        the  0.852129\n",
       "6091     potato  0.850233\n",
       "20634        my  0.850161\n",
       "15945  Alsatian  0.849615\n",
       "9775      furry  0.833391\n",
       "12785  puppyish  0.829942\n",
       "8224       Jude  0.783955"
      ]
     },
     "execution_count": 22,
     "metadata": {},
     "output_type": "execute_result"
    }
   ],
   "source": [
    "my_dogs_name = 'Jude'\n",
    "example_words = ['the', 'potato', 'my', 'Alsatian', 'furry', 'puppyish', my_dogs_name]\n",
    "dog_similarity_df[dog_similarity_df['documents'].isin(example_words)]"
   ]
  },
  {
   "attachments": {},
   "cell_type": "markdown",
   "metadata": {},
   "source": [
    "Cosine similarity ranks the word ‘potato’ as more closely related to the word ‘dog’ than the word ‘Alsatian’.\n",
    "This may be counter-intuitive since ‘Alsatian’ refers to a specific breed of dog, also known as the\n",
    "German Shepherd, while ‘potato’ is a starchy, tuberous crop and is not related to dogs at all.\n",
    "\n",
    "Unsurprisingly, the embedding model does not know the name of my dog."
   ]
  },
  {
   "attachments": {},
   "cell_type": "markdown",
   "metadata": {},
   "source": [
    "## Surprise ranking\n",
    "Now we'll set `surprise_weight = 1` and see how the surprise similarity score ranks our example words:"
   ]
  },
  {
   "cell_type": "code",
   "execution_count": 23,
   "metadata": {},
   "outputs": [
    {
     "data": {
      "text/html": [
       "<div>\n",
       "<style scoped>\n",
       "    .dataframe tbody tr th:only-of-type {\n",
       "        vertical-align: middle;\n",
       "    }\n",
       "\n",
       "    .dataframe tbody tr th {\n",
       "        vertical-align: top;\n",
       "    }\n",
       "\n",
       "    .dataframe thead th {\n",
       "        text-align: right;\n",
       "    }\n",
       "</style>\n",
       "<table border=\"1\" class=\"dataframe\">\n",
       "  <thead>\n",
       "    <tr style=\"text-align: right;\">\n",
       "      <th></th>\n",
       "      <th>documents</th>\n",
       "      <th>dog</th>\n",
       "    </tr>\n",
       "  </thead>\n",
       "  <tbody>\n",
       "    <tr>\n",
       "      <th>15945</th>\n",
       "      <td>Alsatian</td>\n",
       "      <td>0.999324</td>\n",
       "    </tr>\n",
       "    <tr>\n",
       "      <th>9775</th>\n",
       "      <td>furry</td>\n",
       "      <td>0.995270</td>\n",
       "    </tr>\n",
       "    <tr>\n",
       "      <th>12785</th>\n",
       "      <td>puppyish</td>\n",
       "      <td>0.987276</td>\n",
       "    </tr>\n",
       "    <tr>\n",
       "      <th>6091</th>\n",
       "      <td>potato</td>\n",
       "      <td>0.987208</td>\n",
       "    </tr>\n",
       "    <tr>\n",
       "      <th>1231</th>\n",
       "      <td>the</td>\n",
       "      <td>0.980269</td>\n",
       "    </tr>\n",
       "    <tr>\n",
       "      <th>20634</th>\n",
       "      <td>my</td>\n",
       "      <td>0.974568</td>\n",
       "    </tr>\n",
       "    <tr>\n",
       "      <th>8224</th>\n",
       "      <td>Jude</td>\n",
       "      <td>0.641516</td>\n",
       "    </tr>\n",
       "  </tbody>\n",
       "</table>\n",
       "</div>"
      ],
      "text/plain": [
       "      documents       dog\n",
       "15945  Alsatian  0.999324\n",
       "9775      furry  0.995270\n",
       "12785  puppyish  0.987276\n",
       "6091     potato  0.987208\n",
       "1231        the  0.980269\n",
       "20634        my  0.974568\n",
       "8224       Jude  0.641516"
      ]
     },
     "execution_count": 23,
     "metadata": {},
     "output_type": "execute_result"
    }
   ],
   "source": [
    "dog_similarity_df = similarity.rank_documents(queries=['dog'],\n",
    "                                documents=vocabulary,\n",
    "                                surprise_weight=1,\n",
    "                                sample_num_cutoff=None,\n",
    "                                normalize_raw_similarity=False,\n",
    "                                )\n",
    "dog_similarity_df[dog_similarity_df['documents'].isin(example_words)]"
   ]
  },
  {
   "attachments": {},
   "cell_type": "markdown",
   "metadata": {},
   "source": [
    "Great! the surprise similarity takes into account the fact that words like `the`, `my`, and apparently `potato` have a high similarity with many other words -- probably because they appear in many different contexts in the pre-training corpus -- and adjusts the similarity score accordingly.\n",
    "\n",
    "However the model still does not know about my dog's name."
   ]
  },
  {
   "attachments": {},
   "cell_type": "markdown",
   "metadata": {},
   "source": [
    "# Fine-tuning\n",
    "Now I'd like to fine-tune the underlying embedding model to know about my dog, Jude."
   ]
  },
  {
   "cell_type": "code",
   "execution_count": 24,
   "metadata": {},
   "outputs": [
    {
     "name": "stdout",
     "output_type": "stream",
     "text": [
      "Training on 6 examples...\n",
      "\n",
      "Training time: 0:04min (14 iterations, F1: 1.0)\n"
     ]
    }
   ],
   "source": [
    "similarity.train(keys=[\"dog\", 'pet',\"potato\"], queries=[my_dogs_name, my_dogs_name,None], min_its=1)"
   ]
  },
  {
   "attachments": {},
   "cell_type": "markdown",
   "metadata": {},
   "source": [
    "And check the rankings of the example words again.  For cosine similarity we can see that the fine-tuning works and Jude climbs the similarity ladder."
   ]
  },
  {
   "cell_type": "code",
   "execution_count": 25,
   "metadata": {},
   "outputs": [
    {
     "data": {
      "application/vnd.jupyter.widget-view+json": {
       "model_id": "92c7615522244251a513b9a59b6980b7",
       "version_major": 2,
       "version_minor": 0
      },
      "text/plain": [
       "Batches:   0%|          | 0/796 [00:00<?, ?it/s]"
      ]
     },
     "metadata": {},
     "output_type": "display_data"
    },
    {
     "data": {
      "text/html": [
       "<div>\n",
       "<style scoped>\n",
       "    .dataframe tbody tr th:only-of-type {\n",
       "        vertical-align: middle;\n",
       "    }\n",
       "\n",
       "    .dataframe tbody tr th {\n",
       "        vertical-align: top;\n",
       "    }\n",
       "\n",
       "    .dataframe thead th {\n",
       "        text-align: right;\n",
       "    }\n",
       "</style>\n",
       "<table border=\"1\" class=\"dataframe\">\n",
       "  <thead>\n",
       "    <tr style=\"text-align: right;\">\n",
       "      <th></th>\n",
       "      <th>documents</th>\n",
       "      <th>dog</th>\n",
       "    </tr>\n",
       "  </thead>\n",
       "  <tbody>\n",
       "    <tr>\n",
       "      <th>8224</th>\n",
       "      <td>Jude</td>\n",
       "      <td>0.842758</td>\n",
       "    </tr>\n",
       "    <tr>\n",
       "      <th>20634</th>\n",
       "      <td>my</td>\n",
       "      <td>0.804660</td>\n",
       "    </tr>\n",
       "    <tr>\n",
       "      <th>1231</th>\n",
       "      <td>the</td>\n",
       "      <td>0.799246</td>\n",
       "    </tr>\n",
       "    <tr>\n",
       "      <th>15945</th>\n",
       "      <td>Alsatian</td>\n",
       "      <td>0.797201</td>\n",
       "    </tr>\n",
       "    <tr>\n",
       "      <th>9775</th>\n",
       "      <td>furry</td>\n",
       "      <td>0.779097</td>\n",
       "    </tr>\n",
       "    <tr>\n",
       "      <th>12785</th>\n",
       "      <td>puppyish</td>\n",
       "      <td>0.775524</td>\n",
       "    </tr>\n",
       "    <tr>\n",
       "      <th>6091</th>\n",
       "      <td>potato</td>\n",
       "      <td>0.445254</td>\n",
       "    </tr>\n",
       "  </tbody>\n",
       "</table>\n",
       "</div>"
      ],
      "text/plain": [
       "      documents       dog\n",
       "8224       Jude  0.842758\n",
       "20634        my  0.804660\n",
       "1231        the  0.799246\n",
       "15945  Alsatian  0.797201\n",
       "9775      furry  0.779097\n",
       "12785  puppyish  0.775524\n",
       "6091     potato  0.445254"
      ]
     },
     "execution_count": 25,
     "metadata": {},
     "output_type": "execute_result"
    }
   ],
   "source": [
    "dog_similarity_df = similarity.rank_documents(queries=['dog'],\n",
    "                                documents=vocabulary,\n",
    "                                surprise_weight=0,\n",
    "                                sample_num_cutoff=None,\n",
    "                                normalize_raw_similarity=False,\n",
    "                                )\n",
    "dog_similarity_df[dog_similarity_df['documents'].isin(example_words)]"
   ]
  },
  {
   "attachments": {},
   "cell_type": "markdown",
   "metadata": {},
   "source": [
    "Likewise, for surprise similarity we observe that `Jude` is now more similar to `dog`, however, unexpectedly training has also increased the relative surprise similarity of `potato` to dog.  "
   ]
  },
  {
   "cell_type": "code",
   "execution_count": 26,
   "metadata": {},
   "outputs": [
    {
     "data": {
      "text/html": [
       "<div>\n",
       "<style scoped>\n",
       "    .dataframe tbody tr th:only-of-type {\n",
       "        vertical-align: middle;\n",
       "    }\n",
       "\n",
       "    .dataframe tbody tr th {\n",
       "        vertical-align: top;\n",
       "    }\n",
       "\n",
       "    .dataframe thead th {\n",
       "        text-align: right;\n",
       "    }\n",
       "</style>\n",
       "<table border=\"1\" class=\"dataframe\">\n",
       "  <thead>\n",
       "    <tr style=\"text-align: right;\">\n",
       "      <th></th>\n",
       "      <th>documents</th>\n",
       "      <th>dog</th>\n",
       "    </tr>\n",
       "  </thead>\n",
       "  <tbody>\n",
       "    <tr>\n",
       "      <th>8224</th>\n",
       "      <td>Jude</td>\n",
       "      <td>0.999323</td>\n",
       "    </tr>\n",
       "    <tr>\n",
       "      <th>15945</th>\n",
       "      <td>Alsatian</td>\n",
       "      <td>0.997128</td>\n",
       "    </tr>\n",
       "    <tr>\n",
       "      <th>9775</th>\n",
       "      <td>furry</td>\n",
       "      <td>0.973405</td>\n",
       "    </tr>\n",
       "    <tr>\n",
       "      <th>12785</th>\n",
       "      <td>puppyish</td>\n",
       "      <td>0.964916</td>\n",
       "    </tr>\n",
       "    <tr>\n",
       "      <th>20634</th>\n",
       "      <td>my</td>\n",
       "      <td>0.944466</td>\n",
       "    </tr>\n",
       "    <tr>\n",
       "      <th>1231</th>\n",
       "      <td>the</td>\n",
       "      <td>0.906733</td>\n",
       "    </tr>\n",
       "    <tr>\n",
       "      <th>6091</th>\n",
       "      <td>potato</td>\n",
       "      <td>0.000353</td>\n",
       "    </tr>\n",
       "  </tbody>\n",
       "</table>\n",
       "</div>"
      ],
      "text/plain": [
       "      documents       dog\n",
       "8224       Jude  0.999323\n",
       "15945  Alsatian  0.997128\n",
       "9775      furry  0.973405\n",
       "12785  puppyish  0.964916\n",
       "20634        my  0.944466\n",
       "1231        the  0.906733\n",
       "6091     potato  0.000353"
      ]
     },
     "execution_count": 26,
     "metadata": {},
     "output_type": "execute_result"
    }
   ],
   "source": [
    "dog_similarity_df = similarity.rank_documents(queries=['dog'],\n",
    "                                documents=list(english_words_alpha_set),\n",
    "                                surprise_weight=1,\n",
    "                                sample_num_cutoff=None,\n",
    "                                normalize_raw_similarity=False,\n",
    "                                )\n",
    "dog_similarity_df[dog_similarity_df['documents'].isin(example_words)]"
   ]
  },
  {
   "cell_type": "code",
   "execution_count": null,
   "metadata": {},
   "outputs": [],
   "source": []
  }
 ],
 "metadata": {
  "kernelspec": {
   "display_name": "pytorch",
   "language": "python",
   "name": "python3"
  },
  "language_info": {
   "codemirror_mode": {
    "name": "ipython",
    "version": 3
   },
   "file_extension": ".py",
   "mimetype": "text/x-python",
   "name": "python",
   "nbconvert_exporter": "python",
   "pygments_lexer": "ipython3",
   "version": "3.9.10"
  },
  "orig_nbformat": 4
 },
 "nbformat": 4,
 "nbformat_minor": 2
}
